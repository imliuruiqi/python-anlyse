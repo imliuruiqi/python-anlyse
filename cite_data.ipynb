{
 "cells": [
  {
   "cell_type": "code",
   "execution_count": null,
   "metadata": {},
   "outputs": [],
   "source": [
    "# 引用专利分析\n",
    "import pandas as pd\n",
    "import numpy as np\n",
    "\n",
    "excel_path = '引用（1-5000）.xls'\n",
    "d = pd.read_excel(excel_path, sheet_name='sheet1') #文件中只有sheet1有数据，直接导入。"
   ]
  },
  {
   "cell_type": "code",
   "execution_count": null,
   "metadata": {},
   "outputs": [],
   "source": [
    "d.set_index(['公开(公告)号'], inplace=True,drop=False) #设置索引"
   ]
  },
  {
   "cell_type": "code",
   "execution_count": null,
   "metadata": {},
   "outputs": [],
   "source": [
    "d = d['CN1066695C':'CN1104724C'] #定位数据\n",
    "d.index = range(len(d)) #重置索引\n",
    "d"
   ]
  },
  {
   "cell_type": "code",
   "execution_count": null,
   "metadata": {},
   "outputs": [],
   "source": [
    "#地址处理\n",
    "\n",
    "import jieba\n",
    "#导入标准国家名称列表\n",
    "countrypd = pd.read_csv('country.csv')\n",
    "countryli = list(countrypd['value'])\n",
    "\n",
    "placetext = d['第一申请人地址']\n",
    "placetext"
   ]
  },
  {
   "cell_type": "code",
   "execution_count": null,
   "metadata": {},
   "outputs": [],
   "source": [
    "# 非中国国别处理\n",
    "\n",
    "matched_placelist  = []\n",
    "for place in list(placetext):#地址匹配\n",
    "    status = 0\n",
    "    if status == 0 and place[-1].encode('UTF-8').isalpha():\n",
    "        matched_country = place[-2:]\n",
    "        matched_placelist.append(matched_country)\n",
    "        status = 1\n",
    "    else:\n",
    "        seg_place = list(jieba.cut(place,cut_all=True))\n",
    "        \n",
    "        for seg_word in seg_place:#分词匹配            \n",
    "            if status == 0 and len(seg_word)>1:#判断是否已经匹配\n",
    "                for country in countryli:\n",
    "                    if seg_word in country and status==0:\n",
    "                        matched_placelist.append(country)\n",
    "                        status = 1 #匹配成功\n",
    "    \n",
    "    if status == 0:\n",
    "        matched_placelist.append(np.nan)\n",
    "    \n",
    "matched_placelist"
   ]
  },
  {
   "cell_type": "code",
   "execution_count": null,
   "metadata": {},
   "outputs": [],
   "source": [
    "countrydf = pd.DataFrame(matched_placelist,columns = ['country'],index=d.index)\n",
    "countrydf"
   ]
  },
  {
   "cell_type": "code",
   "execution_count": null,
   "metadata": {},
   "outputs": [],
   "source": [
    "#处理英文缩略词\n",
    "countrypd = pd.read_csv('country.csv') #国家中英文对照\n",
    "countrypd.set_index(['id'],inplace=True) \n",
    "countrydic = countrypd.to_dict()['value']\n",
    "def matchfun(x):\n",
    "    if x in countrydic and x != 'nan':\n",
    "        return countrydic[x]\n",
    "    else:\n",
    "        return x\n",
    "countrydf = countrydf['country'].apply(matchfun)"
   ]
  },
  {
   "cell_type": "code",
   "execution_count": null,
   "metadata": {},
   "outputs": [],
   "source": [
    "d = d.join(countrydf)\n",
    "d"
   ]
  },
  {
   "cell_type": "code",
   "execution_count": null,
   "metadata": {},
   "outputs": [],
   "source": [
    "d.to_excel('citewithcountry.xls',sheet_name='sheet1')\n",
    "# 等待手工检验"
   ]
  },
  {
   "cell_type": "code",
   "execution_count": null,
   "metadata": {},
   "outputs": [],
   "source": [
    "###注意：以下为经人工筛选后的数据\n",
    "\n",
    "#筛选目标的原专利至do （original）\n",
    "do = d[d['公开(公告)号'].notnull()]\n",
    "do"
   ]
  },
  {
   "cell_type": "code",
   "execution_count": null,
   "metadata": {},
   "outputs": [],
   "source": [
    "#筛选所有的引用目标专利的专利数据至dc（cite）\n",
    "d = pd.read_excel('citewithcountry.xls', sheet_name='sheet1')\n",
    "d['公开(公告)号'] = d['公开(公告)号'].fillna(method='ffill') #填充公开号中的空行\n",
    "dc = d[d[\"引用专利\"].notnull()]\n",
    "dc"
   ]
  },
  {
   "cell_type": "code",
   "execution_count": null,
   "metadata": {},
   "outputs": [],
   "source": [
    "# 导出至cite.xls\n",
    "writer = pd.ExcelWriter('citewithcountry.xls')\n",
    "\n",
    "d.to_excel(writer,'sheet1')\n",
    "do.to_excel(writer,'original')\n",
    "dc.to_excel(writer,'citeby')\n",
    "\n",
    "writer.save()"
   ]
  },
  {
   "cell_type": "code",
   "execution_count": null,
   "metadata": {},
   "outputs": [],
   "source": []
  }
 ],
 "metadata": {
  "kernelspec": {
   "display_name": "Python 3",
   "language": "python",
   "name": "python3"
  },
  "language_info": {
   "codemirror_mode": {
    "name": "ipython",
    "version": 3
   },
   "file_extension": ".py",
   "mimetype": "text/x-python",
   "name": "python",
   "nbconvert_exporter": "python",
   "pygments_lexer": "ipython3",
   "version": "3.6.5"
  }
 },
 "nbformat": 4,
 "nbformat_minor": 2
}
