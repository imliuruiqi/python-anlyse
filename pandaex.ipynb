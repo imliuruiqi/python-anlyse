{
 "cells": [
  {
   "cell_type": "code",
   "execution_count": 4,
   "metadata": {},
   "outputs": [
    {
     "name": "stdout",
     "output_type": "stream",
     "text": [
      "      公开(公告)号                                                 标题 IPC主分类号(大类)  \\\n",
      "0  CN1042690C  含有取代的吡啶磺酰胺类化合物的除草剂 | Herbicidal composition co...         A01   \n",
      "1  CN1023600C                            杀菌剂组合物及其制法 | Fungicides         C07   \n",
      "2  CN1266828C  近似3次函数发生装置以及使用了该装置的温度补偿晶体振荡电路及其温度补偿方法 | Approx...         H03   \n",
      "3  CN1127408C  固定墨盒的方法和设备 | Method and apparatus for securing...         B41   \n",
      "4  CN1166649C  大环螯合剂及其与顺磁性金属离子的螯合物的制备方法 | Process for prepari...         C07   \n",
      "5  CN1235448C                     泵激支持用的扼流圈 | Pump support choke         H05   \n",
      "6  CN1109965C  通过分布式编程对象进行主机信息访问的方法 | Host information access...         G06   \n",
      "7  CN1120094C  热敏记录材料和新型双酚S衍生物的结晶 | Thermal recording materia...         B41   \n",
      "8  CN1244993C  在通信系统中检测和防止报文冲突的方法和装置 | Method and device for ...         H04   \n",
      "9  CN1087781C  一种利用有益菌对硒和锌进行生物转化的方法 | Bioconversion method of...         C12   \n",
      "\n",
      "   INPADOC同族成员数量 [标]申请(专利权)人                申请人地址  \n",
      "0             71    石原産业株式会社                日本大阪府  \n",
      "1             63    帝国化学工业公司                英国英格兰  \n",
      "2             11  旭化成微系统株式会社                日本东京都  \n",
      "3             14    惠普开发有限公司             美国加利福尼亚州  \n",
      "4             24   伯拉考国际股份公司              荷兰阿姆斯特丹  \n",
      "5             16  电灯专利信托有限公司      联邦德国慕尼黑海拉布伦纳街1号  \n",
      "6              4    国际商业机器公司                 美国纽约  \n",
      "7             17    日本化薬株式会社                 日本东京  \n",
      "8             21    高通股份有限公司             美国加州圣地埃哥  \n",
      "9              2  济南三株药业有限公司  250100山东省济南市山大北路77号  \n"
     ]
    }
   ],
   "source": [
    "import pandas as pd\n",
    "from chinese_province_city_area_mapper.transformer import CPCATransformer\n",
    "from chinese_province_city_area_mapper import myumap\n",
    "\n",
    "# 导入文件并转化为pandas DataFrame对象\n",
    "excel_path = 'records.xls'\n",
    "d = pd.read_excel(excel_path, sheet_name='sheet1') #文件中只有sheet1有数据，直接导入。\n",
    "print(d.head(10)) #打印前10条记录"
   ]
  },
  {
   "cell_type": "code",
   "execution_count": 5,
   "metadata": {},
   "outputs": [
    {
     "name": "stderr",
     "output_type": "stream",
     "text": [
      "Building prefix dict from the default dictionary ...\n",
      "Loading model from cache C:\\Users\\imliu\\AppData\\Local\\Temp\\jieba.cache\n",
      "Loading model cost 0.929 seconds.\n",
      "Prefix dict has been built succesfully.\n",
      "WARNING:root:在多个市存在相同区名-'和平区'，最好在CPCATransformer的构造函数传入一个map指定其所属市\n",
      "WARNING:root:在多个市存在相同区名-'市中区'，最好在CPCATransformer的构造函数传入一个map指定其所属市\n",
      "WARNING:root:在多个市存在相同区名-'城区'，最好在CPCATransformer的构造函数传入一个map指定其所属市\n",
      "WARNING:root:在多个市存在相同区名-'青山区'，最好在CPCATransformer的构造函数传入一个map指定其所属市\n",
      "WARNING:root:在多个市存在相同区名-'江北区'，最好在CPCATransformer的构造函数传入一个map指定其所属市\n",
      "WARNING:root:在多个市存在相同区名-'双桥区'，最好在CPCATransformer的构造函数传入一个map指定其所属市\n",
      "WARNING:root:在多个市存在相同区名-'鼓楼区'，最好在CPCATransformer的构造函数传入一个map指定其所属市\n",
      "WARNING:root:在多个市存在相同区名-'青山区'，最好在CPCATransformer的构造函数传入一个map指定其所属市\n",
      "WARNING:root:在多个市存在相同区名-'江北区'，最好在CPCATransformer的构造函数传入一个map指定其所属市\n",
      "WARNING:root:在多个市存在相同区名-'和平区'，最好在CPCATransformer的构造函数传入一个map指定其所属市\n",
      "WARNING:root:在多个市存在相同区名-'城区'，最好在CPCATransformer的构造函数传入一个map指定其所属市\n",
      "WARNING:root:在多个市存在相同区名-'铁东区'，最好在CPCATransformer的构造函数传入一个map指定其所属市\n",
      "WARNING:root:在多个市存在相同区名-'市中区'，最好在CPCATransformer的构造函数传入一个map指定其所属市\n",
      "WARNING:root:在多个市存在相同区名-'鼓楼区'，最好在CPCATransformer的构造函数传入一个map指定其所属市\n",
      "WARNING:root:在多个市存在相同区名-'郊区'，最好在CPCATransformer的构造函数传入一个map指定其所属市\n",
      "WARNING:root:在多个市存在相同区名-'和平区'，最好在CPCATransformer的构造函数传入一个map指定其所属市\n",
      "WARNING:root:在多个市存在相同区名-'市中区'，最好在CPCATransformer的构造函数传入一个map指定其所属市\n",
      "WARNING:root:在多个市存在相同区名-'市中区'，最好在CPCATransformer的构造函数传入一个map指定其所属市\n",
      "WARNING:root:在多个市存在相同区名-'和平区'，最好在CPCATransformer的构造函数传入一个map指定其所属市\n",
      "WARNING:root:在多个市存在相同区名-'城关区'，最好在CPCATransformer的构造函数传入一个map指定其所属市\n",
      "WARNING:root:在多个市存在相同区名-'城区'，最好在CPCATransformer的构造函数传入一个map指定其所属市\n",
      "WARNING:root:在多个市存在相同区名-'市中区'，最好在CPCATransformer的构造函数传入一个map指定其所属市\n",
      "WARNING:root:在多个市存在相同区名-'青山区'，最好在CPCATransformer的构造函数传入一个map指定其所属市\n",
      "WARNING:root:在多个市存在相同区名-'和平区'，最好在CPCATransformer的构造函数传入一个map指定其所属市\n",
      "WARNING:root:在多个市存在相同区名-'铁东区'，最好在CPCATransformer的构造函数传入一个map指定其所属市\n",
      "WARNING:root:建议添加到umap中的区有：{'和平区', '双桥区', '江北区', '城区', '市中区', '郊区', '鼓楼区', '城关区', '铁东区', '青山区'}\n"
     ]
    },
    {
     "name": "stdout",
     "output_type": "stream",
     "text": [
      "  区    市    省\n",
      "0            \n",
      "1            \n",
      "2            \n",
      "3            \n",
      "4            \n",
      "5            \n",
      "6            \n",
      "7            \n",
      "8            \n",
      "9    济南市  山东省\n"
     ]
    }
   ],
   "source": [
    "cpca = CPCATransformer(myumap.umap)\n",
    "location_str = d['申请人地址']\n",
    "citydf = cpca.transform(location_str)\n",
    "print(citydf.head(10))"
   ]
  },
  {
   "cell_type": "code",
   "execution_count": 6,
   "metadata": {},
   "outputs": [
    {
     "name": "stdout",
     "output_type": "stream",
     "text": [
      "      公开(公告)号                                                 标题 IPC主分类号(大类)  \\\n",
      "0  CN1042690C  含有取代的吡啶磺酰胺类化合物的除草剂 | Herbicidal composition co...         A01   \n",
      "1  CN1023600C                            杀菌剂组合物及其制法 | Fungicides         C07   \n",
      "2  CN1266828C  近似3次函数发生装置以及使用了该装置的温度补偿晶体振荡电路及其温度补偿方法 | Approx...         H03   \n",
      "3  CN1127408C  固定墨盒的方法和设备 | Method and apparatus for securing...         B41   \n",
      "4  CN1166649C  大环螯合剂及其与顺磁性金属离子的螯合物的制备方法 | Process for prepari...         C07   \n",
      "5  CN1235448C                     泵激支持用的扼流圈 | Pump support choke         H05   \n",
      "6  CN1109965C  通过分布式编程对象进行主机信息访问的方法 | Host information access...         G06   \n",
      "7  CN1120094C  热敏记录材料和新型双酚S衍生物的结晶 | Thermal recording materia...         B41   \n",
      "8  CN1244993C  在通信系统中检测和防止报文冲突的方法和装置 | Method and device for ...         H04   \n",
      "9  CN1087781C  一种利用有益菌对硒和锌进行生物转化的方法 | Bioconversion method of...         C12   \n",
      "\n",
      "   INPADOC同族成员数量 [标]申请(专利权)人                申请人地址 区    市    省  \n",
      "0             71    石原産业株式会社                日本大阪府              \n",
      "1             63    帝国化学工业公司                英国英格兰              \n",
      "2             11  旭化成微系统株式会社                日本东京都              \n",
      "3             14    惠普开发有限公司             美国加利福尼亚州              \n",
      "4             24   伯拉考国际股份公司              荷兰阿姆斯特丹              \n",
      "5             16  电灯专利信托有限公司      联邦德国慕尼黑海拉布伦纳街1号              \n",
      "6              4    国际商业机器公司                 美国纽约              \n",
      "7             17    日本化薬株式会社                 日本东京              \n",
      "8             21    高通股份有限公司             美国加州圣地埃哥              \n",
      "9              2  济南三株药业有限公司  250100山东省济南市山大北路77号    济南市  山东省  \n"
     ]
    }
   ],
   "source": [
    "d = pd.concat([d,citydf], axis=1) #拼接df\n",
    "print(d.head(10))"
   ]
  },
  {
   "cell_type": "code",
   "execution_count": 7,
   "metadata": {},
   "outputs": [],
   "source": [
    "# 绘图\n",
    "from chinese_province_city_area_mapper import drawers\n",
    "drawers.echarts_draw(citydf, \"test.html\") #热力图"
   ]
  },
  {
   "cell_type": "code",
   "execution_count": 10,
   "metadata": {},
   "outputs": [],
   "source": [
    "drawers.echarts_cate_draw(citydf, citydf[\"省\"], \"test2.html\")"
   ]
  },
  {
   "cell_type": "code",
   "execution_count": 11,
   "metadata": {},
   "outputs": [],
   "source": [
    "d.to_excel('recordswithcity.xls',sheet_name='sheet1')"
   ]
  },
  {
   "cell_type": "code",
   "execution_count": 1,
   "metadata": {},
   "outputs": [
    {
     "ename": "NameError",
     "evalue": "name 'pd' is not defined",
     "output_type": "error",
     "traceback": [
      "\u001b[1;31m-----------------------------------------\u001b[0m",
      "\u001b[1;31mNameError\u001b[0mTraceback (most recent call last)",
      "\u001b[1;32m<ipython-input-1-71c27af54b51>\u001b[0m in \u001b[0;36m<module>\u001b[1;34m()\u001b[0m\n\u001b[1;32m----> 1\u001b[1;33m \u001b[0mcountryli\u001b[0m \u001b[1;33m=\u001b[0m \u001b[0mpd\u001b[0m\u001b[1;33m.\u001b[0m\u001b[0mread_csv\u001b[0m\u001b[1;33m(\u001b[0m\u001b[1;34m'country.csv'\u001b[0m\u001b[1;33m)\u001b[0m\u001b[1;33m\u001b[0m\u001b[0m\n\u001b[0m\u001b[0;32m      2\u001b[0m \u001b[0mcountryli\u001b[0m\u001b[1;33m\u001b[0m\u001b[0m\n",
      "\u001b[1;31mNameError\u001b[0m: name 'pd' is not defined"
     ]
    }
   ],
   "source": []
  },
  {
   "cell_type": "code",
   "execution_count": null,
   "metadata": {},
   "outputs": [],
   "source": []
  }
 ],
 "metadata": {
  "kernelspec": {
   "display_name": "Python 3",
   "language": "python",
   "name": "python3"
  },
  "language_info": {
   "codemirror_mode": {
    "name": "ipython",
    "version": 3
   },
   "file_extension": ".py",
   "mimetype": "text/x-python",
   "name": "python",
   "nbconvert_exporter": "python",
   "pygments_lexer": "ipython3",
   "version": "3.6.5"
  }
 },
 "nbformat": 4,
 "nbformat_minor": 2
}
